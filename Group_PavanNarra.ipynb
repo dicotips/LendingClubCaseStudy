{
 "cells": [
  {
   "cell_type": "markdown",
   "id": "22cd91a9",
   "metadata": {},
   "source": [
    "# <center> Lending Club Case Study\n",
    "\n",
    "\n",
    "## Table of Content\n",
    "\n",
    "1. [Introduction](#Introduction)\n",
    "2. [Important Settings](#Important-Settings)\n",
    "3. [Data Understanding](#Data-Understanding)  \n",
    "4. [Data Cleaning and Manipulation](#Data-Cleaning-and-Manipulation)\n",
    "5. [Data Analysis](#Data-Analysis)\n",
    "6. [Presentation and Recommendations](#Presentation-and-Recommendations)\n",
    "7. [Conciseness and Readability of the Code](#Conciseness-and-Readability-of-the-Code)\n"
   ]
  },
  {
   "cell_type": "markdown",
   "id": "21052ac1",
   "metadata": {},
   "source": [
    "# Introduction \n",
    "\n",
    "### Group members:\n",
    "* Pavan Narra (https://github.com/pavan440)\n",
    "* Jheser Guzman (https://github.com/dicotips)\n",
    "\n",
    "## Business Understanding\n",
    "\n",
    "**Source:** UpGrad Assignment description\n",
    "\n",
    "*You work for a **consumer finance** company which specialises in lending various types of loans to urban customers. When the company receives a loan application, the company has to make a decision for loan approval based on the applicant’s profile. Two **types of risks** are associated with the bank’s decision:*\n",
    "\n",
    "* *If the applicant is **likely to repay the loan**, then not approving the loan results in a **loss of business** to the company*\n",
    "\n",
    "* *If the applicant is **not likely to repay the loan**, i.e. he/she is likely to default, then approving the loan may lead to a **financial loss** for the company*\n",
    "\n",
    "*The data given below contains the information about past loan applicants and whether they ‘defaulted’ or not. The aim is to identify patterns which indicate if a person is likely to default, which may be used for taking actions such as denying the loan, reducing the amount of loan, lending (to risky applicants) at a higher interest rate, etc.*\n",
    "\n",
    "When a person applies for a loan, there are two types of decisions that could be taken by the company:\n",
    "\n",
    "1. **Loan accepted:** If the company approves the loan, there are 3 possible scenarios described below:\n",
    "\n",
    "  * **Fully paid:** Applicant has fully paid the loan (the principal and the interest rate)\n",
    "\n",
    "  * **Current:** Applicant is in the process of paying the instalments, i.e. the tenure of the loan is not yet completed. These candidates are not labelled as 'defaulted'.\n",
    "\n",
    "  * **Charged-off:** Applicant has not paid the instalments in due time for a long period of time, i.e. he/she has defaulted on the loan \n",
    "\n",
    "2. **Loan rejected:** The company had rejected the loan (because the candidate does not meet their requirements etc.). Since the loan was rejected, there is no transactional history of those applicants with the company and so this data is not available with the company (and thus in this dataset)\n",
    "\n"
   ]
  },
  {
   "cell_type": "markdown",
   "id": "fe29918d-0021-4adc-9966-99cd47d0900e",
   "metadata": {},
   "source": [
    "# Important Settings"
   ]
  },
  {
   "cell_type": "code",
   "execution_count": 56,
   "id": "11339b4c",
   "metadata": {},
   "outputs": [],
   "source": [
    "# Importing required libraries\n",
    "import numpy as np\n",
    "import pandas as pd\n",
    "import matplotlib.pyplot as plt\n",
    "import seaborn as sns\n",
    "\n",
    "#Ignore version warnings\n",
    "import warnings\n",
    "warnings.filterwarnings('ignore')\n",
    "\n",
    "#Set Dataset File Path\n",
    "DATA_FILE_PATH = '_dataset/loan.csv'"
   ]
  },
  {
   "cell_type": "code",
   "execution_count": 57,
   "id": "6f344feb",
   "metadata": {},
   "outputs": [],
   "source": [
    "# Reading CSV file with dtype object and saving it in raw_data dataframe. \n",
    "# All the processing in the data will be stored in new dataframes\n",
    "\n",
    "raw_data = pd.read_csv(DATA_FILE_PATH, dtype=object)"
   ]
  },
  {
   "cell_type": "markdown",
   "id": "a7e8ec7d-e1c0-44c3-a751-46da43b2c802",
   "metadata": {},
   "source": [
    "## Data Understanding\n",
    "* All data quality issues are correctly identified and reported. \n",
    "* Wherever required, the meanings of the variables are correctly interpreted and written either in the comments or text."
   ]
  },
  {
   "cell_type": "code",
   "execution_count": 58,
   "id": "7699547b-7637-4ec8-99b3-3825d84f76c0",
   "metadata": {},
   "outputs": [
    {
     "data": {
      "text/html": [
       "<div>\n",
       "<style scoped>\n",
       "    .dataframe tbody tr th:only-of-type {\n",
       "        vertical-align: middle;\n",
       "    }\n",
       "\n",
       "    .dataframe tbody tr th {\n",
       "        vertical-align: top;\n",
       "    }\n",
       "\n",
       "    .dataframe thead th {\n",
       "        text-align: right;\n",
       "    }\n",
       "</style>\n",
       "<table border=\"1\" class=\"dataframe\">\n",
       "  <thead>\n",
       "    <tr style=\"text-align: right;\">\n",
       "      <th></th>\n",
       "      <th>id</th>\n",
       "      <th>member_id</th>\n",
       "      <th>loan_amnt</th>\n",
       "      <th>funded_amnt</th>\n",
       "      <th>funded_amnt_inv</th>\n",
       "      <th>term</th>\n",
       "      <th>int_rate</th>\n",
       "      <th>installment</th>\n",
       "      <th>grade</th>\n",
       "      <th>sub_grade</th>\n",
       "      <th>...</th>\n",
       "      <th>num_tl_90g_dpd_24m</th>\n",
       "      <th>num_tl_op_past_12m</th>\n",
       "      <th>pct_tl_nvr_dlq</th>\n",
       "      <th>percent_bc_gt_75</th>\n",
       "      <th>pub_rec_bankruptcies</th>\n",
       "      <th>tax_liens</th>\n",
       "      <th>tot_hi_cred_lim</th>\n",
       "      <th>total_bal_ex_mort</th>\n",
       "      <th>total_bc_limit</th>\n",
       "      <th>total_il_high_credit_limit</th>\n",
       "    </tr>\n",
       "  </thead>\n",
       "  <tbody>\n",
       "    <tr>\n",
       "      <th>0</th>\n",
       "      <td>1077501</td>\n",
       "      <td>1296599</td>\n",
       "      <td>5000</td>\n",
       "      <td>5000</td>\n",
       "      <td>4975</td>\n",
       "      <td>36 months</td>\n",
       "      <td>10.65%</td>\n",
       "      <td>162.87</td>\n",
       "      <td>B</td>\n",
       "      <td>B2</td>\n",
       "      <td>...</td>\n",
       "      <td>NaN</td>\n",
       "      <td>NaN</td>\n",
       "      <td>NaN</td>\n",
       "      <td>NaN</td>\n",
       "      <td>0</td>\n",
       "      <td>0</td>\n",
       "      <td>NaN</td>\n",
       "      <td>NaN</td>\n",
       "      <td>NaN</td>\n",
       "      <td>NaN</td>\n",
       "    </tr>\n",
       "    <tr>\n",
       "      <th>1</th>\n",
       "      <td>1077430</td>\n",
       "      <td>1314167</td>\n",
       "      <td>2500</td>\n",
       "      <td>2500</td>\n",
       "      <td>2500</td>\n",
       "      <td>60 months</td>\n",
       "      <td>15.27%</td>\n",
       "      <td>59.83</td>\n",
       "      <td>C</td>\n",
       "      <td>C4</td>\n",
       "      <td>...</td>\n",
       "      <td>NaN</td>\n",
       "      <td>NaN</td>\n",
       "      <td>NaN</td>\n",
       "      <td>NaN</td>\n",
       "      <td>0</td>\n",
       "      <td>0</td>\n",
       "      <td>NaN</td>\n",
       "      <td>NaN</td>\n",
       "      <td>NaN</td>\n",
       "      <td>NaN</td>\n",
       "    </tr>\n",
       "    <tr>\n",
       "      <th>2</th>\n",
       "      <td>1077175</td>\n",
       "      <td>1313524</td>\n",
       "      <td>2400</td>\n",
       "      <td>2400</td>\n",
       "      <td>2400</td>\n",
       "      <td>36 months</td>\n",
       "      <td>15.96%</td>\n",
       "      <td>84.33</td>\n",
       "      <td>C</td>\n",
       "      <td>C5</td>\n",
       "      <td>...</td>\n",
       "      <td>NaN</td>\n",
       "      <td>NaN</td>\n",
       "      <td>NaN</td>\n",
       "      <td>NaN</td>\n",
       "      <td>0</td>\n",
       "      <td>0</td>\n",
       "      <td>NaN</td>\n",
       "      <td>NaN</td>\n",
       "      <td>NaN</td>\n",
       "      <td>NaN</td>\n",
       "    </tr>\n",
       "    <tr>\n",
       "      <th>3</th>\n",
       "      <td>1076863</td>\n",
       "      <td>1277178</td>\n",
       "      <td>10000</td>\n",
       "      <td>10000</td>\n",
       "      <td>10000</td>\n",
       "      <td>36 months</td>\n",
       "      <td>13.49%</td>\n",
       "      <td>339.31</td>\n",
       "      <td>C</td>\n",
       "      <td>C1</td>\n",
       "      <td>...</td>\n",
       "      <td>NaN</td>\n",
       "      <td>NaN</td>\n",
       "      <td>NaN</td>\n",
       "      <td>NaN</td>\n",
       "      <td>0</td>\n",
       "      <td>0</td>\n",
       "      <td>NaN</td>\n",
       "      <td>NaN</td>\n",
       "      <td>NaN</td>\n",
       "      <td>NaN</td>\n",
       "    </tr>\n",
       "    <tr>\n",
       "      <th>4</th>\n",
       "      <td>1075358</td>\n",
       "      <td>1311748</td>\n",
       "      <td>3000</td>\n",
       "      <td>3000</td>\n",
       "      <td>3000</td>\n",
       "      <td>60 months</td>\n",
       "      <td>12.69%</td>\n",
       "      <td>67.79</td>\n",
       "      <td>B</td>\n",
       "      <td>B5</td>\n",
       "      <td>...</td>\n",
       "      <td>NaN</td>\n",
       "      <td>NaN</td>\n",
       "      <td>NaN</td>\n",
       "      <td>NaN</td>\n",
       "      <td>0</td>\n",
       "      <td>0</td>\n",
       "      <td>NaN</td>\n",
       "      <td>NaN</td>\n",
       "      <td>NaN</td>\n",
       "      <td>NaN</td>\n",
       "    </tr>\n",
       "  </tbody>\n",
       "</table>\n",
       "<p>5 rows × 111 columns</p>\n",
       "</div>"
      ],
      "text/plain": [
       "        id member_id loan_amnt funded_amnt funded_amnt_inv        term  \\\n",
       "0  1077501   1296599      5000        5000            4975   36 months   \n",
       "1  1077430   1314167      2500        2500            2500   60 months   \n",
       "2  1077175   1313524      2400        2400            2400   36 months   \n",
       "3  1076863   1277178     10000       10000           10000   36 months   \n",
       "4  1075358   1311748      3000        3000            3000   60 months   \n",
       "\n",
       "  int_rate installment grade sub_grade  ... num_tl_90g_dpd_24m  \\\n",
       "0   10.65%      162.87     B        B2  ...                NaN   \n",
       "1   15.27%       59.83     C        C4  ...                NaN   \n",
       "2   15.96%       84.33     C        C5  ...                NaN   \n",
       "3   13.49%      339.31     C        C1  ...                NaN   \n",
       "4   12.69%       67.79     B        B5  ...                NaN   \n",
       "\n",
       "  num_tl_op_past_12m pct_tl_nvr_dlq percent_bc_gt_75 pub_rec_bankruptcies  \\\n",
       "0                NaN            NaN              NaN                    0   \n",
       "1                NaN            NaN              NaN                    0   \n",
       "2                NaN            NaN              NaN                    0   \n",
       "3                NaN            NaN              NaN                    0   \n",
       "4                NaN            NaN              NaN                    0   \n",
       "\n",
       "  tax_liens tot_hi_cred_lim total_bal_ex_mort total_bc_limit  \\\n",
       "0         0             NaN               NaN            NaN   \n",
       "1         0             NaN               NaN            NaN   \n",
       "2         0             NaN               NaN            NaN   \n",
       "3         0             NaN               NaN            NaN   \n",
       "4         0             NaN               NaN            NaN   \n",
       "\n",
       "  total_il_high_credit_limit  \n",
       "0                        NaN  \n",
       "1                        NaN  \n",
       "2                        NaN  \n",
       "3                        NaN  \n",
       "4                        NaN  \n",
       "\n",
       "[5 rows x 111 columns]"
      ]
     },
     "execution_count": 58,
     "metadata": {},
     "output_type": "execute_result"
    }
   ],
   "source": [
    "# Getting the first 5 rows from the raw_data dataframe for data exploration\n",
    "raw_data.head()"
   ]
  },
  {
   "cell_type": "code",
   "execution_count": 59,
   "id": "0543ded6-a468-4e79-ae5a-bef84b857eeb",
   "metadata": {},
   "outputs": [
    {
     "name": "stdout",
     "output_type": "stream",
     "text": [
      "(39717, 111)\n",
      "<class 'pandas.core.frame.DataFrame'>\n",
      "RangeIndex: 39717 entries, 0 to 39716\n",
      "Columns: 111 entries, id to total_il_high_credit_limit\n",
      "dtypes: object(111)\n",
      "memory usage: 33.6+ MB\n",
      "None\n"
     ]
    }
   ],
   "source": [
    "# Understanding the structure of the dataset\n",
    "# Checking shape & datatype of raw_data dataframe\n",
    "print(raw_data.shape)\n",
    "print(raw_data.info())"
   ]
  },
  {
   "cell_type": "code",
   "execution_count": 60,
   "id": "59d91f75",
   "metadata": {},
   "outputs": [
    {
     "name": "stdout",
     "output_type": "stream",
     "text": [
      "id                            object\n",
      "member_id                     object\n",
      "loan_amnt                     object\n",
      "funded_amnt                   object\n",
      "funded_amnt_inv               object\n",
      "                               ...  \n",
      "tax_liens                     object\n",
      "tot_hi_cred_lim               object\n",
      "total_bal_ex_mort             object\n",
      "total_bc_limit                object\n",
      "total_il_high_credit_limit    object\n",
      "Length: 111, dtype: object\n"
     ]
    }
   ],
   "source": [
    "print(raw_data.dtypes)"
   ]
  },
  {
   "cell_type": "code",
   "execution_count": 61,
   "id": "39b35759",
   "metadata": {},
   "outputs": [
    {
     "name": "stdout",
     "output_type": "stream",
     "text": [
      "39717\n"
     ]
    },
    {
     "data": {
      "text/plain": [
       "0"
      ]
     },
     "execution_count": 61,
     "metadata": {},
     "output_type": "execute_result"
    }
   ],
   "source": [
    "# We verify if there is any dublicated rows in ['id', 'member_id']\n",
    "\n",
    "print(raw_data.duplicated(subset=None, keep='first').count())\n",
    "sum(raw_data.duplicated(['id']))\n",
    "\n",
    "## Result: There are no duplicated IDs !!!"
   ]
  },
  {
   "cell_type": "code",
   "execution_count": 63,
   "id": "7a67337f",
   "metadata": {},
   "outputs": [
    {
     "name": "stdout",
     "output_type": "stream",
     "text": [
      "39717\n"
     ]
    },
    {
     "data": {
      "text/plain": [
       "0"
      ]
     },
     "execution_count": 63,
     "metadata": {},
     "output_type": "execute_result"
    }
   ],
   "source": [
    "print(raw_data.duplicated(subset=None, keep='first').count())\n",
    "sum(raw_data.duplicated(['member_id']))\n",
    "\n",
    "## Result: There are no duplicated member_ids !!!"
   ]
  },
  {
   "cell_type": "code",
   "execution_count": 64,
   "id": "ed19be35",
   "metadata": {},
   "outputs": [
    {
     "name": "stdout",
     "output_type": "stream",
     "text": [
      "N Empty Rows: 0\n"
     ]
    }
   ],
   "source": [
    "# Checking how many rows have all missing values\n",
    "empty_rows = raw_data.isnull().all(axis=1).sum()\n",
    "print(f'N Empty Rows: {empty_rows}')\n",
    "\n",
    "## Result: There are 54 columns have all missing values."
   ]
  },
  {
   "cell_type": "code",
   "execution_count": 65,
   "id": "6b00daab",
   "metadata": {},
   "outputs": [
    {
     "name": "stdout",
     "output_type": "stream",
     "text": [
      "N Empty Columns: 54\n"
     ]
    }
   ],
   "source": [
    "# Checking how many columns have all missing values\n",
    "empty_columns = raw_data.isnull().all(axis=0).sum()\n",
    "print(f'N Empty Columns: {empty_columns}')\n",
    "\n",
    "## Result: There are 54 columns with no data in it (all data is null in those columns)."
   ]
  },
  {
   "cell_type": "code",
   "execution_count": null,
   "id": "ee913292",
   "metadata": {},
   "outputs": [],
   "source": []
  },
  {
   "cell_type": "markdown",
   "id": "3e4574d5-2d41-4136-a8fb-edbe8be03762",
   "metadata": {},
   "source": [
    "## Data Cleaning and Manipulation\n",
    "\n",
    "* Data quality issues are addressed in the right way (missing value imputation, outlier treatment and other kinds of data redundancies, etc.). \n",
    "* If applicable, data is converted to a suitable and convenient format to work with using the right methods.\n",
    "* Manipulation of strings and dates is done correctly wherever required."
   ]
  },
  {
   "cell_type": "code",
   "execution_count": null,
   "id": "458d92d3-95b2-44de-81dd-8bb8cb7ba4af",
   "metadata": {},
   "outputs": [],
   "source": []
  },
  {
   "cell_type": "markdown",
   "id": "722d47a0-a435-4a19-989e-70422374e1b9",
   "metadata": {},
   "source": [
    "## Data Analysis\n",
    "\n",
    "* The right problem is solved which is coherent with the needs of the business. The analysis has a clear structure and the flow is easy to understand.\n",
    "* Univariate and segmented univariate analysis is done correctly and appropriate realistic assumptions are made wherever required. The analyses successfully identify at least the 5 important driver variables (i.e. variables which are strong indicators of default).\n",
    "* Business-driven, type-driven and data-driven metrics are created for the important variables and utilised for analysis. The explanation for creating the derived metrics is mentioned and is reasonable.\n",
    "* Bivariate analysis is performed correctly and is able to identify the important combinations of driver variables. The combinations of variables are chosen such that they make business or analytical sense. \n",
    "* The most useful insights are explained correctly in the comments.\n",
    "* Appropriate plots are created to present the results of the analysis. The choice of plots for respective cases is correct. The plots should clearly present the relevant insights and should be easy to read. The axes and important data points are labelled correctly."
   ]
  },
  {
   "cell_type": "code",
   "execution_count": null,
   "id": "cb75f005-d431-4f69-9e71-1d06f4444598",
   "metadata": {},
   "outputs": [],
   "source": []
  },
  {
   "cell_type": "markdown",
   "id": "98130130-9eb8-4810-9f2d-a9ed42ccd703",
   "metadata": {},
   "source": [
    "## Presentation and Recommendations\n",
    "\n",
    "* The presentation has a clear structure, is not too long, and explains the most important results concisely in simple language.\n",
    "* The recommendations to solve the problems are realistic, actionable and coherent with the analysis. \n",
    "* The GitHub repository link contains a python file, presentation file and a README.md file. README.md file should describe the project briefly.\n",
    "* If any assumptions are made, they are stated clearly."
   ]
  },
  {
   "cell_type": "code",
   "execution_count": null,
   "id": "4088b684-359a-46a0-85ee-ba0883670d82",
   "metadata": {},
   "outputs": [],
   "source": []
  },
  {
   "cell_type": "markdown",
   "id": "9898530d-c624-48aa-91ac-0f077efd193e",
   "metadata": {},
   "source": [
    "## Conciseness and Readability of the Code\n",
    "* The code is concise and syntactically correct. Wherever appropriate, built-in functions and standard libraries are used instead of writing long code (if-else statements, for loops, etc.).\n",
    "* Custom functions are used to perform repetitive tasks.\n",
    "* The code is readable with appropriately named variables and detailed comments are written wherever necessary."
   ]
  },
  {
   "cell_type": "code",
   "execution_count": null,
   "id": "b9c6e786",
   "metadata": {},
   "outputs": [],
   "source": []
  }
 ],
 "metadata": {
  "interpreter": {
   "hash": "40d3a090f54c6569ab1632332b64b2c03c39dcf918b08424e98f38b5ae0af88f"
  },
  "kernelspec": {
   "display_name": "Python 3",
   "language": "python",
   "name": "python3"
  },
  "language_info": {
   "codemirror_mode": {
    "name": "ipython",
    "version": 3
   },
   "file_extension": ".py",
   "mimetype": "text/x-python",
   "name": "python",
   "nbconvert_exporter": "python",
   "pygments_lexer": "ipython3",
   "version": "3.8.8"
  }
 },
 "nbformat": 4,
 "nbformat_minor": 5
}
