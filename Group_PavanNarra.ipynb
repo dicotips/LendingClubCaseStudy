{
 "cells": [
  {
   "cell_type": "markdown",
   "id": "b20a80a5",
   "metadata": {},
   "source": [
    "# <center> Lending Club Case Study\n",
    "\n",
    "\n",
    "## Table of Content\n",
    "\n",
    "1. [Introduction](#Introduction)\n",
    "2. [Important Settings](#Important-Settings)\n",
    "3. [Data Understanding](#Data-Understanding)  \n",
    "4. [Data Cleaning and Manipulation](#Data-Cleaning-and-Manipulation)\n",
    "    1. [Dropping Data](#Dropping-Data)\n",
    "    2. [Formatting Data](#Formatting-Data)\n",
    "    3. [Derived Data](#Derived-Data)\n",
    "5. [Data Analysis](#Data-Analysis)\n",
    "6. [Presentation and Recommendations](#Presentation-and-Recommendations)\n",
    "7. [Conciseness and Readability of the Code](#Conciseness-and-Readability-of-the-Code)\n"
   ]
  },
  {
   "cell_type": "markdown",
   "id": "24b3528d",
   "metadata": {},
   "source": [
    "# Introduction \n",
    "\n",
    "### Group members:\n",
    "* Pavan Narra (https://github.com/pavan440)\n",
    "* Jheser Guzman (https://github.com/dicotips)\n",
    "\n",
    "## Business Understanding\n",
    "\n",
    "**Source:** UpGrad Assignment description\n",
    "\n",
    "*You work for a **consumer finance** company which specialises in lending various types of loans to urban customers. When the company receives a loan application, the company has to make a decision for loan approval based on the applicant’s profile. Two **types of risks** are associated with the bank’s decision:*\n",
    "\n",
    "* *If the applicant is **likely to repay the loan**, then not approving the loan results in a **loss of business** to the company*\n",
    "\n",
    "* *If the applicant is **not likely to repay the loan**, i.e. he/she is likely to default, then approving the loan may lead to a **financial loss** for the company*\n",
    "\n",
    "*The data given below contains the information about past loan applicants and whether they ‘defaulted’ or not. The aim is to identify patterns which indicate if a person is likely to default, which may be used for taking actions such as denying the loan, reducing the amount of loan, lending (to risky applicants) at a higher interest rate, etc.*\n",
    "\n",
    "When a person applies for a loan, there are two types of decisions that could be taken by the company:\n",
    "\n",
    "1. **Loan accepted:** If the company approves the loan, there are 3 possible scenarios described below:\n",
    "\n",
    "  * **Fully paid:** Applicant has fully paid the loan (the principal and the interest rate)\n",
    "\n",
    "  * **Current:** Applicant is in the process of paying the instalments, i.e. the tenure of the loan is not yet completed. These candidates are not labelled as 'defaulted'.\n",
    "\n",
    "  * **Charged-off:** Applicant has not paid the instalments in due time for a long period of time, i.e. he/she has defaulted on the loan \n",
    "\n",
    "2. **Loan rejected:** The company had rejected the loan (because the candidate does not meet their requirements etc.). Since the loan was rejected, there is no transactional history of those applicants with the company and so this data is not available with the company (and thus in this dataset)\n",
    "\n"
   ]
  },
  {
   "cell_type": "markdown",
   "id": "fe29918d-0021-4adc-9966-99cd47d0900e",
   "metadata": {},
   "source": [
    "# Important Settings"
   ]
  },
  {
   "cell_type": "code",
   "execution_count": 73,
   "id": "11339b4c",
   "metadata": {},
   "outputs": [],
   "source": [
    "# Importing required libraries\n",
    "import numpy as np\n",
    "import pandas as pd\n",
    "import matplotlib.pyplot as plt\n",
    "import seaborn as sns\n",
    "import sys\n",
    "\n",
    "# Ignore version warnings\n",
    "import warnings\n",
    "warnings.filterwarnings('ignore')\n",
    "\n",
    "# Setting the format of Float numbers to two digits.\n",
    "pd.options.display.float_format = '{:.2f}'.format "
   ]
  },
  {
   "cell_type": "code",
   "execution_count": 74,
   "id": "997ffac2",
   "metadata": {},
   "outputs": [],
   "source": [
    "# Reading CSV file with dtype object and saving it in raw_data dataframe. \n",
    "# All the processing in the data will be stored in new dataframes\n",
    "\n",
    "# Set Dataset File Path\n",
    "DATA_FILE_PATH = '_dataset/loan.csv'\n",
    "\n",
    "raw_data = pd.read_csv(DATA_FILE_PATH, dtype=object)"
   ]
  },
  {
   "cell_type": "markdown",
   "id": "a7e8ec7d-e1c0-44c3-a751-46da43b2c802",
   "metadata": {},
   "source": [
    "## Data Understanding\n",
    "* All data quality issues are correctly identified and reported. \n",
    "* Wherever required, the meanings of the variables are correctly interpreted and written either in the comments or text."
   ]
  },
  {
   "cell_type": "code",
   "execution_count": 3,
   "id": "7699547b-7637-4ec8-99b3-3825d84f76c0",
   "metadata": {},
   "outputs": [
    {
     "data": {
      "text/html": [
       "<div>\n",
       "<style scoped>\n",
       "    .dataframe tbody tr th:only-of-type {\n",
       "        vertical-align: middle;\n",
       "    }\n",
       "\n",
       "    .dataframe tbody tr th {\n",
       "        vertical-align: top;\n",
       "    }\n",
       "\n",
       "    .dataframe thead th {\n",
       "        text-align: right;\n",
       "    }\n",
       "</style>\n",
       "<table border=\"1\" class=\"dataframe\">\n",
       "  <thead>\n",
       "    <tr style=\"text-align: right;\">\n",
       "      <th></th>\n",
       "      <th>id</th>\n",
       "      <th>member_id</th>\n",
       "      <th>loan_amnt</th>\n",
       "      <th>funded_amnt</th>\n",
       "      <th>funded_amnt_inv</th>\n",
       "      <th>term</th>\n",
       "      <th>int_rate</th>\n",
       "      <th>installment</th>\n",
       "      <th>grade</th>\n",
       "      <th>sub_grade</th>\n",
       "      <th>...</th>\n",
       "      <th>num_tl_90g_dpd_24m</th>\n",
       "      <th>num_tl_op_past_12m</th>\n",
       "      <th>pct_tl_nvr_dlq</th>\n",
       "      <th>percent_bc_gt_75</th>\n",
       "      <th>pub_rec_bankruptcies</th>\n",
       "      <th>tax_liens</th>\n",
       "      <th>tot_hi_cred_lim</th>\n",
       "      <th>total_bal_ex_mort</th>\n",
       "      <th>total_bc_limit</th>\n",
       "      <th>total_il_high_credit_limit</th>\n",
       "    </tr>\n",
       "  </thead>\n",
       "  <tbody>\n",
       "    <tr>\n",
       "      <th>0</th>\n",
       "      <td>1077501</td>\n",
       "      <td>1296599</td>\n",
       "      <td>5000</td>\n",
       "      <td>5000</td>\n",
       "      <td>4975</td>\n",
       "      <td>36 months</td>\n",
       "      <td>10.65%</td>\n",
       "      <td>162.87</td>\n",
       "      <td>B</td>\n",
       "      <td>B2</td>\n",
       "      <td>...</td>\n",
       "      <td>NaN</td>\n",
       "      <td>NaN</td>\n",
       "      <td>NaN</td>\n",
       "      <td>NaN</td>\n",
       "      <td>0</td>\n",
       "      <td>0</td>\n",
       "      <td>NaN</td>\n",
       "      <td>NaN</td>\n",
       "      <td>NaN</td>\n",
       "      <td>NaN</td>\n",
       "    </tr>\n",
       "    <tr>\n",
       "      <th>1</th>\n",
       "      <td>1077430</td>\n",
       "      <td>1314167</td>\n",
       "      <td>2500</td>\n",
       "      <td>2500</td>\n",
       "      <td>2500</td>\n",
       "      <td>60 months</td>\n",
       "      <td>15.27%</td>\n",
       "      <td>59.83</td>\n",
       "      <td>C</td>\n",
       "      <td>C4</td>\n",
       "      <td>...</td>\n",
       "      <td>NaN</td>\n",
       "      <td>NaN</td>\n",
       "      <td>NaN</td>\n",
       "      <td>NaN</td>\n",
       "      <td>0</td>\n",
       "      <td>0</td>\n",
       "      <td>NaN</td>\n",
       "      <td>NaN</td>\n",
       "      <td>NaN</td>\n",
       "      <td>NaN</td>\n",
       "    </tr>\n",
       "    <tr>\n",
       "      <th>2</th>\n",
       "      <td>1077175</td>\n",
       "      <td>1313524</td>\n",
       "      <td>2400</td>\n",
       "      <td>2400</td>\n",
       "      <td>2400</td>\n",
       "      <td>36 months</td>\n",
       "      <td>15.96%</td>\n",
       "      <td>84.33</td>\n",
       "      <td>C</td>\n",
       "      <td>C5</td>\n",
       "      <td>...</td>\n",
       "      <td>NaN</td>\n",
       "      <td>NaN</td>\n",
       "      <td>NaN</td>\n",
       "      <td>NaN</td>\n",
       "      <td>0</td>\n",
       "      <td>0</td>\n",
       "      <td>NaN</td>\n",
       "      <td>NaN</td>\n",
       "      <td>NaN</td>\n",
       "      <td>NaN</td>\n",
       "    </tr>\n",
       "    <tr>\n",
       "      <th>3</th>\n",
       "      <td>1076863</td>\n",
       "      <td>1277178</td>\n",
       "      <td>10000</td>\n",
       "      <td>10000</td>\n",
       "      <td>10000</td>\n",
       "      <td>36 months</td>\n",
       "      <td>13.49%</td>\n",
       "      <td>339.31</td>\n",
       "      <td>C</td>\n",
       "      <td>C1</td>\n",
       "      <td>...</td>\n",
       "      <td>NaN</td>\n",
       "      <td>NaN</td>\n",
       "      <td>NaN</td>\n",
       "      <td>NaN</td>\n",
       "      <td>0</td>\n",
       "      <td>0</td>\n",
       "      <td>NaN</td>\n",
       "      <td>NaN</td>\n",
       "      <td>NaN</td>\n",
       "      <td>NaN</td>\n",
       "    </tr>\n",
       "    <tr>\n",
       "      <th>4</th>\n",
       "      <td>1075358</td>\n",
       "      <td>1311748</td>\n",
       "      <td>3000</td>\n",
       "      <td>3000</td>\n",
       "      <td>3000</td>\n",
       "      <td>60 months</td>\n",
       "      <td>12.69%</td>\n",
       "      <td>67.79</td>\n",
       "      <td>B</td>\n",
       "      <td>B5</td>\n",
       "      <td>...</td>\n",
       "      <td>NaN</td>\n",
       "      <td>NaN</td>\n",
       "      <td>NaN</td>\n",
       "      <td>NaN</td>\n",
       "      <td>0</td>\n",
       "      <td>0</td>\n",
       "      <td>NaN</td>\n",
       "      <td>NaN</td>\n",
       "      <td>NaN</td>\n",
       "      <td>NaN</td>\n",
       "    </tr>\n",
       "  </tbody>\n",
       "</table>\n",
       "<p>5 rows × 111 columns</p>\n",
       "</div>"
      ],
      "text/plain": [
       "        id member_id loan_amnt funded_amnt funded_amnt_inv        term  \\\n",
       "0  1077501   1296599      5000        5000            4975   36 months   \n",
       "1  1077430   1314167      2500        2500            2500   60 months   \n",
       "2  1077175   1313524      2400        2400            2400   36 months   \n",
       "3  1076863   1277178     10000       10000           10000   36 months   \n",
       "4  1075358   1311748      3000        3000            3000   60 months   \n",
       "\n",
       "  int_rate installment grade sub_grade  ... num_tl_90g_dpd_24m  \\\n",
       "0   10.65%      162.87     B        B2  ...                NaN   \n",
       "1   15.27%       59.83     C        C4  ...                NaN   \n",
       "2   15.96%       84.33     C        C5  ...                NaN   \n",
       "3   13.49%      339.31     C        C1  ...                NaN   \n",
       "4   12.69%       67.79     B        B5  ...                NaN   \n",
       "\n",
       "  num_tl_op_past_12m pct_tl_nvr_dlq percent_bc_gt_75 pub_rec_bankruptcies  \\\n",
       "0                NaN            NaN              NaN                    0   \n",
       "1                NaN            NaN              NaN                    0   \n",
       "2                NaN            NaN              NaN                    0   \n",
       "3                NaN            NaN              NaN                    0   \n",
       "4                NaN            NaN              NaN                    0   \n",
       "\n",
       "  tax_liens tot_hi_cred_lim total_bal_ex_mort total_bc_limit  \\\n",
       "0         0             NaN               NaN            NaN   \n",
       "1         0             NaN               NaN            NaN   \n",
       "2         0             NaN               NaN            NaN   \n",
       "3         0             NaN               NaN            NaN   \n",
       "4         0             NaN               NaN            NaN   \n",
       "\n",
       "  total_il_high_credit_limit  \n",
       "0                        NaN  \n",
       "1                        NaN  \n",
       "2                        NaN  \n",
       "3                        NaN  \n",
       "4                        NaN  \n",
       "\n",
       "[5 rows x 111 columns]"
      ]
     },
     "execution_count": 3,
     "metadata": {},
     "output_type": "execute_result"
    }
   ],
   "source": [
    "# Getting the first 5 rows from the raw_data dataframe for data exploration\n",
    "raw_data.head()"
   ]
  },
  {
   "cell_type": "code",
   "execution_count": 4,
   "id": "0543ded6-a468-4e79-ae5a-bef84b857eeb",
   "metadata": {},
   "outputs": [
    {
     "name": "stdout",
     "output_type": "stream",
     "text": [
      "(39717, 111)\n",
      "<class 'pandas.core.frame.DataFrame'>\n",
      "RangeIndex: 39717 entries, 0 to 39716\n",
      "Columns: 111 entries, id to total_il_high_credit_limit\n",
      "dtypes: object(111)\n",
      "memory usage: 33.6+ MB\n",
      "None\n"
     ]
    }
   ],
   "source": [
    "# Understanding the structure of the dataset\n",
    "# Checking shape & datatype of raw_data dataframe\n",
    "print(raw_data.shape)\n",
    "print(raw_data.info())"
   ]
  },
  {
   "cell_type": "code",
   "execution_count": 5,
   "id": "4584b659",
   "metadata": {},
   "outputs": [
    {
     "name": "stdout",
     "output_type": "stream",
     "text": [
      "id                            object\n",
      "member_id                     object\n",
      "loan_amnt                     object\n",
      "funded_amnt                   object\n",
      "funded_amnt_inv               object\n",
      "                               ...  \n",
      "tax_liens                     object\n",
      "tot_hi_cred_lim               object\n",
      "total_bal_ex_mort             object\n",
      "total_bc_limit                object\n",
      "total_il_high_credit_limit    object\n",
      "Length: 111, dtype: object\n"
     ]
    }
   ],
   "source": [
    "print(raw_data.dtypes)"
   ]
  },
  {
   "cell_type": "code",
   "execution_count": 6,
   "id": "a1139ca1",
   "metadata": {},
   "outputs": [
    {
     "name": "stdout",
     "output_type": "stream",
     "text": [
      "39717\n"
     ]
    },
    {
     "data": {
      "text/plain": [
       "0"
      ]
     },
     "execution_count": 6,
     "metadata": {},
     "output_type": "execute_result"
    }
   ],
   "source": [
    "# We verify if there is any dublicated rows in ['id', 'member_id']\n",
    "\n",
    "print(raw_data.duplicated(subset=None, keep='first').count())\n",
    "sum(raw_data.duplicated(['id']))\n",
    "\n",
    "## Result: There are no duplicated IDs !!!"
   ]
  },
  {
   "cell_type": "code",
   "execution_count": 7,
   "id": "7bb2acc9",
   "metadata": {},
   "outputs": [
    {
     "name": "stdout",
     "output_type": "stream",
     "text": [
      "39717\n"
     ]
    },
    {
     "data": {
      "text/plain": [
       "0"
      ]
     },
     "execution_count": 7,
     "metadata": {},
     "output_type": "execute_result"
    }
   ],
   "source": [
    "print(raw_data.duplicated(subset=None, keep='first').count())\n",
    "sum(raw_data.duplicated(['member_id']))\n",
    "\n",
    "## Result: There are no duplicated member_ids !!!"
   ]
  },
  {
   "cell_type": "code",
   "execution_count": 8,
   "id": "551cd3a4",
   "metadata": {},
   "outputs": [
    {
     "name": "stdout",
     "output_type": "stream",
     "text": [
      "N Empty Rows: 0\n"
     ]
    }
   ],
   "source": [
    "# Checking how many rows have all missing values\n",
    "empty_rows = raw_data.isnull().all(axis=1).sum()\n",
    "print(f'N Empty Rows: {empty_rows}')\n",
    "\n",
    "## Result: There are 54 columns have all missing values."
   ]
  },
  {
   "cell_type": "code",
   "execution_count": 9,
   "id": "f9ff6be8",
   "metadata": {},
   "outputs": [
    {
     "name": "stdout",
     "output_type": "stream",
     "text": [
      "N Empty Columns: 54\n"
     ]
    }
   ],
   "source": [
    "# Checking how many columns have all missing values\n",
    "empty_columns = raw_data.isnull().all(axis=0).sum()\n",
    "print(f'N Empty Columns: {empty_columns}')\n",
    "\n",
    "## Result: There are 54 columns with no data in it (all data is null in those columns)."
   ]
  },
  {
   "cell_type": "code",
   "execution_count": 10,
   "id": "646bc271",
   "metadata": {},
   "outputs": [
    {
     "data": {
      "text/plain": [
       "id                                0\n",
       "member_id                         0\n",
       "loan_amnt                         0\n",
       "funded_amnt                       0\n",
       "funded_amnt_inv                   0\n",
       "                              ...  \n",
       "tax_liens                        39\n",
       "tot_hi_cred_lim               39717\n",
       "total_bal_ex_mort             39717\n",
       "total_bc_limit                39717\n",
       "total_il_high_credit_limit    39717\n",
       "Length: 111, dtype: int64"
      ]
     },
     "execution_count": 10,
     "metadata": {},
     "output_type": "execute_result"
    }
   ],
   "source": [
    "# Counting Nulls in each column\n",
    "raw_data.isnull().sum()"
   ]
  },
  {
   "cell_type": "markdown",
   "id": "3e4574d5-2d41-4136-a8fb-edbe8be03762",
   "metadata": {},
   "source": [
    "## Data Cleaning and Manipulation\n",
    "\n",
    "* Data quality issues are addressed in the right way (missing value imputation, outlier treatment and other kinds of data redundancies, etc.). \n",
    "* If applicable, data is converted to a suitable and convenient format to work with using the right methods.\n",
    "* Manipulation of strings and dates is done correctly wherever required."
   ]
  },
  {
   "cell_type": "markdown",
   "id": "bed09a29",
   "metadata": {},
   "source": [
    "### Dropping Data"
   ]
  },
  {
   "cell_type": "code",
   "execution_count": 54,
   "id": "458d92d3-95b2-44de-81dd-8bb8cb7ba4af",
   "metadata": {},
   "outputs": [
    {
     "name": "stdout",
     "output_type": "stream",
     "text": [
      "Raw_Data Memory Usage: 207MB\n"
     ]
    }
   ],
   "source": [
    "# Verifying how much memory is used by raw_data dataframe\n",
    "raw_data_size_mb = format(sys.getsizeof(raw_data) /(1028**2), '.0f')\n",
    "\n",
    "print(f'Raw_Data Memory Usage: {raw_data_size_mb}MB')"
   ]
  },
  {
   "cell_type": "code",
   "execution_count": 55,
   "id": "e1c2ac5f",
   "metadata": {},
   "outputs": [
    {
     "name": "stdout",
     "output_type": "stream",
     "text": [
      "Index(['mths_since_last_major_derog', 'annual_inc_joint', 'dti_joint',\n",
      "       'verification_status_joint', 'tot_coll_amt', 'tot_cur_bal',\n",
      "       'open_acc_6m', 'open_il_6m', 'open_il_12m', 'open_il_24m',\n",
      "       'mths_since_rcnt_il', 'total_bal_il', 'il_util', 'open_rv_12m',\n",
      "       'open_rv_24m', 'max_bal_bc', 'all_util', 'total_rev_hi_lim', 'inq_fi',\n",
      "       'total_cu_tl', 'inq_last_12m', 'acc_open_past_24mths', 'avg_cur_bal',\n",
      "       'bc_open_to_buy', 'bc_util', 'mo_sin_old_il_acct',\n",
      "       'mo_sin_old_rev_tl_op', 'mo_sin_rcnt_rev_tl_op', 'mo_sin_rcnt_tl',\n",
      "       'mort_acc', 'mths_since_recent_bc', 'mths_since_recent_bc_dlq',\n",
      "       'mths_since_recent_inq', 'mths_since_recent_revol_delinq',\n",
      "       'num_accts_ever_120_pd', 'num_actv_bc_tl', 'num_actv_rev_tl',\n",
      "       'num_bc_sats', 'num_bc_tl', 'num_il_tl', 'num_op_rev_tl',\n",
      "       'num_rev_accts', 'num_rev_tl_bal_gt_0', 'num_sats', 'num_tl_120dpd_2m',\n",
      "       'num_tl_30dpd', 'num_tl_90g_dpd_24m', 'num_tl_op_past_12m',\n",
      "       'pct_tl_nvr_dlq', 'percent_bc_gt_75', 'tot_hi_cred_lim',\n",
      "       'total_bal_ex_mort', 'total_bc_limit', 'total_il_high_credit_limit'],\n",
      "      dtype='object')\n"
     ]
    }
   ],
   "source": [
    "# Creating a copy of 'raw_data' to clean & transform data\n",
    "## Dropping columns with all null values\n",
    "columuns_all_null = raw_data.columns[raw_data.isnull().sum() == raw_data.shape[0]]\n",
    "print(columuns_all_null)\n",
    "\n",
    "cleaned_data = raw_data.drop(columns=columuns_all_null) "
   ]
  },
  {
   "cell_type": "code",
   "execution_count": 56,
   "id": "353b2662",
   "metadata": {},
   "outputs": [
    {
     "data": {
      "text/plain": [
       "id                                0\n",
       "member_id                         0\n",
       "loan_amnt                         0\n",
       "funded_amnt                       0\n",
       "funded_amnt_inv                   0\n",
       "term                              0\n",
       "int_rate                          0\n",
       "installment                       0\n",
       "grade                             0\n",
       "sub_grade                         0\n",
       "emp_title                      2459\n",
       "emp_length                     1075\n",
       "home_ownership                    0\n",
       "annual_inc                        0\n",
       "verification_status               0\n",
       "issue_d                           0\n",
       "loan_status                       0\n",
       "pymnt_plan                        0\n",
       "url                               0\n",
       "desc                          12940\n",
       "purpose                           0\n",
       "title                            11\n",
       "zip_code                          0\n",
       "addr_state                        0\n",
       "dti                               0\n",
       "delinq_2yrs                       0\n",
       "earliest_cr_line                  0\n",
       "inq_last_6mths                    0\n",
       "mths_since_last_delinq        25682\n",
       "mths_since_last_record        36931\n",
       "open_acc                          0\n",
       "pub_rec                           0\n",
       "revol_bal                         0\n",
       "revol_util                       50\n",
       "total_acc                         0\n",
       "initial_list_status               0\n",
       "out_prncp                         0\n",
       "out_prncp_inv                     0\n",
       "total_pymnt                       0\n",
       "total_pymnt_inv                   0\n",
       "total_rec_prncp                   0\n",
       "total_rec_int                     0\n",
       "total_rec_late_fee                0\n",
       "recoveries                        0\n",
       "collection_recovery_fee           0\n",
       "last_pymnt_d                     71\n",
       "last_pymnt_amnt                   0\n",
       "next_pymnt_d                  38577\n",
       "last_credit_pull_d                2\n",
       "collections_12_mths_ex_med       56\n",
       "policy_code                       0\n",
       "application_type                  0\n",
       "acc_now_delinq                    0\n",
       "chargeoff_within_12_mths         56\n",
       "delinq_amnt                       0\n",
       "pub_rec_bankruptcies            697\n",
       "tax_liens                        39\n",
       "dtype: int64"
      ]
     },
     "execution_count": 56,
     "metadata": {},
     "output_type": "execute_result"
    }
   ],
   "source": [
    "# Counting Nulls in each column\n",
    "\n",
    "cleaned_data.isnull().sum()"
   ]
  },
  {
   "cell_type": "code",
   "execution_count": 57,
   "id": "59ce312a",
   "metadata": {},
   "outputs": [
    {
     "name": "stdout",
     "output_type": "stream",
     "text": [
      "['desc']\n"
     ]
    },
    {
     "data": {
      "text/plain": [
       "0      Borrower added on 12/22/11 > I need to upgra...\n",
       "1      Borrower added on 12/22/11 > I plan to use t...\n",
       "2                                                  NaN\n",
       "3      Borrower added on 12/21/11 > to pay for prop...\n",
       "4      Borrower added on 12/21/11 > I plan on combi...\n",
       "Name: desc, dtype: object"
      ]
     },
     "execution_count": 57,
     "metadata": {},
     "output_type": "execute_result"
    }
   ],
   "source": [
    "# Droping additional columns we don't need since these are mostly nulls.\n",
    "## Creating a list of Column names to be dropped\n",
    "drop_columns = []\n",
    "\n",
    "# * 'desc' is a plain text of description. It will not needed in this analysis\n",
    "drop_columns.append('desc')\n",
    "print(drop_columns)\n",
    "cleaned_data.desc.head()"
   ]
  },
  {
   "cell_type": "code",
   "execution_count": 58,
   "id": "177e20c6",
   "metadata": {},
   "outputs": [
    {
     "name": "stdout",
     "output_type": "stream",
     "text": [
      "0      443\n",
      "15     252\n",
      "30     247\n",
      "23     247\n",
      "24     241\n",
      "      ... \n",
      "97       1\n",
      "120      1\n",
      "95       1\n",
      "115      1\n",
      "96       1\n",
      "Name: mths_since_last_delinq, Length: 95, dtype: int64\n",
      "0      670\n",
      "104     61\n",
      "89      60\n",
      "113     59\n",
      "111     57\n",
      "      ... \n",
      "7        1\n",
      "19       1\n",
      "129      1\n",
      "14       1\n",
      "6        1\n",
      "Name: mths_since_last_record, Length: 111, dtype: int64\n",
      "Jun-16    1125\n",
      "Jul-16      15\n",
      "Name: next_pymnt_d, dtype: int64\n"
     ]
    }
   ],
   "source": [
    "# Dropping following columns since they have too many Null values.\n",
    "drop_columns.extend([\"mths_since_last_delinq\",\"mths_since_last_record\",\"next_pymnt_d\"])\n",
    "print(cleaned_data.mths_since_last_delinq.value_counts())\n",
    "print(cleaned_data.mths_since_last_record.value_counts())\n",
    "print(cleaned_data.next_pymnt_d.value_counts())"
   ]
  },
  {
   "cell_type": "code",
   "execution_count": 59,
   "id": "fade6d95",
   "metadata": {},
   "outputs": [
    {
     "name": "stdout",
     "output_type": "stream",
     "text": [
      "(39717, 57)\n"
     ]
    }
   ],
   "source": [
    "# Dropping \n",
    "cleaned_data.isnull().sum()\n",
    "print(cleaned_data.shape)"
   ]
  },
  {
   "cell_type": "code",
   "execution_count": 60,
   "id": "ca07e9a3",
   "metadata": {},
   "outputs": [
    {
     "name": "stdout",
     "output_type": "stream",
     "text": [
      "(39717, 53)\n"
     ]
    }
   ],
   "source": [
    "cleaned_data.drop(columns=drop_columns, inplace=True)\n",
    "print(cleaned_data.shape)"
   ]
  },
  {
   "cell_type": "code",
   "execution_count": 61,
   "id": "fae4b8f2",
   "metadata": {},
   "outputs": [
    {
     "name": "stdout",
     "output_type": "stream",
     "text": [
      "id different values: 39717\n",
      "member_id different values: 39717\n",
      "url different values: 39717\n"
     ]
    }
   ],
   "source": [
    "# Dropping columns with all different values. They will not add value to the analysis.\n",
    "## Dropping 'id' column\n",
    "drop_columns = ['id']\n",
    "print('id different values: ', end='')\n",
    "print(cleaned_data.id.value_counts().count())\n",
    "\n",
    "## Dropping 'member_id' column\n",
    "drop_columns.append('member_id')\n",
    "print('member_id different values: ', end='')\n",
    "print(cleaned_data.member_id.value_counts().count())\n",
    "\n",
    "## Dropping 'url' column since it has all different values\n",
    "drop_columns.append('url')\n",
    "print('url different values: ' , end='')\n",
    "print(cleaned_data.url.value_counts().count())"
   ]
  },
  {
   "cell_type": "code",
   "execution_count": 62,
   "id": "84fad89a",
   "metadata": {},
   "outputs": [
    {
     "name": "stdout",
     "output_type": "stream",
     "text": [
      "tax_liens value count: 0    39678\n",
      "Name: tax_liens, dtype: int64\n",
      "emp_title different values: 28820\n"
     ]
    }
   ],
   "source": [
    "# Dropping 'tax_liens' column since it has only one value 0\n",
    "drop_columns.append('tax_liens')\n",
    "print('tax_liens value count: ', end='')\n",
    "print(cleaned_data.tax_liens.value_counts())\n",
    "\n",
    "# Dropping 'emp_title' since it has too many different discrete values\n",
    "drop_columns.append('emp_title')\n",
    "print('emp_title different values: ' , end='')\n",
    "print(cleaned_data.emp_title.value_counts().count())\n",
    "\n",
    "# Dropping 'zip_code' since the dataset is too small for the universe of zip_codes in the country\n",
    "drop_columns.append('zip_code')"
   ]
  },
  {
   "cell_type": "code",
   "execution_count": 63,
   "id": "2acb61a4",
   "metadata": {},
   "outputs": [],
   "source": [
    "cleaned_data.drop(columns=drop_columns, inplace=True)"
   ]
  },
  {
   "cell_type": "code",
   "execution_count": 64,
   "id": "ebb82e62",
   "metadata": {},
   "outputs": [
    {
     "data": {
      "text/plain": [
       "(39717, 47)"
      ]
     },
     "execution_count": 64,
     "metadata": {},
     "output_type": "execute_result"
    }
   ],
   "source": [
    "# After cleaning all the irrelevant columns for the analysis, we are left with a dataframe of 47 columns\n",
    "\n",
    "cleaned_data.shape"
   ]
  },
  {
   "cell_type": "markdown",
   "id": "08181d5b",
   "metadata": {},
   "source": [
    "### Formatting Data"
   ]
  },
  {
   "cell_type": "code",
   "execution_count": 65,
   "id": "c484a543",
   "metadata": {},
   "outputs": [
    {
     "data": {
      "text/plain": [
       "loan_amnt                     object\n",
       "funded_amnt                   object\n",
       "funded_amnt_inv               object\n",
       "term                          object\n",
       "int_rate                      object\n",
       "installment                   object\n",
       "grade                         object\n",
       "sub_grade                     object\n",
       "emp_length                    object\n",
       "home_ownership                object\n",
       "annual_inc                    object\n",
       "verification_status           object\n",
       "issue_d                       object\n",
       "loan_status                   object\n",
       "pymnt_plan                    object\n",
       "purpose                       object\n",
       "title                         object\n",
       "addr_state                    object\n",
       "dti                           object\n",
       "delinq_2yrs                   object\n",
       "earliest_cr_line              object\n",
       "inq_last_6mths                object\n",
       "open_acc                      object\n",
       "pub_rec                       object\n",
       "revol_bal                     object\n",
       "revol_util                    object\n",
       "total_acc                     object\n",
       "initial_list_status           object\n",
       "out_prncp                     object\n",
       "out_prncp_inv                 object\n",
       "total_pymnt                   object\n",
       "total_pymnt_inv               object\n",
       "total_rec_prncp               object\n",
       "total_rec_int                 object\n",
       "total_rec_late_fee            object\n",
       "recoveries                    object\n",
       "collection_recovery_fee       object\n",
       "last_pymnt_d                  object\n",
       "last_pymnt_amnt               object\n",
       "last_credit_pull_d            object\n",
       "collections_12_mths_ex_med    object\n",
       "policy_code                   object\n",
       "application_type              object\n",
       "acc_now_delinq                object\n",
       "chargeoff_within_12_mths      object\n",
       "delinq_amnt                   object\n",
       "pub_rec_bankruptcies          object\n",
       "dtype: object"
      ]
     },
     "execution_count": 65,
     "metadata": {},
     "output_type": "execute_result"
    }
   ],
   "source": [
    "cleaned_data.dtypes"
   ]
  },
  {
   "cell_type": "code",
   "execution_count": 66,
   "id": "d73c1cdf",
   "metadata": {},
   "outputs": [
    {
     "data": {
      "text/plain": [
       "10    8879\n",
       "1     7823\n",
       "2     4388\n",
       "3     4095\n",
       "4     3436\n",
       "5     3282\n",
       "6     2229\n",
       "7     1773\n",
       "8     1479\n",
       "9     1258\n",
       "0     1075\n",
       "Name: emp_length, dtype: int64"
      ]
     },
     "execution_count": 66,
     "metadata": {},
     "output_type": "execute_result"
    }
   ],
   "source": [
    "# Formatting employment length column to have only numbers. Filling NaN with 0s.\n",
    "cleaned_data.emp_length.fillna('0',inplace=True)\n",
    "cleaned_data['emp_length'] = cleaned_data.emp_length.str.extract('(\\d+)')\n",
    "cleaned_data.emp_length.value_counts()"
   ]
  },
  {
   "cell_type": "code",
   "execution_count": 67,
   "id": "10d6231d",
   "metadata": {},
   "outputs": [
    {
     "name": "stdout",
     "output_type": "stream",
     "text": [
      "Before:697\n",
      "After:0\n"
     ]
    }
   ],
   "source": [
    "# pub_rec_bankruptcies is cleaned.\n",
    "print(\"Before:\", end='')\n",
    "print(cleaned_data.pub_rec_bankruptcies.isnull().sum())\n",
    "\n",
    "print(\"After:\", end='')\n",
    "cleaned_data.pub_rec_bankruptcies.fillna('Not Known', inplace=True)\n",
    "print(cleaned_data.pub_rec_bankruptcies.isnull().sum())"
   ]
  },
  {
   "cell_type": "code",
   "execution_count": 68,
   "id": "9acef885",
   "metadata": {},
   "outputs": [],
   "source": [
    "# Removing % symbol from 'int_rate' column to have numeric values\n",
    "cleaned_data['int_rate'] = cleaned_data.int_rate.str.rstrip('%')\n",
    "\n",
    "# Rmoving % symbol from 'revol_util' column to have numeric values\n",
    "cleaned_data['revol_util'] = cleaned_data.revol_util.str.rstrip('%')"
   ]
  },
  {
   "cell_type": "code",
   "execution_count": 88,
   "id": "6d21e953",
   "metadata": {},
   "outputs": [],
   "source": [
    "# Convert amount columns into numeric data.\n",
    "\n",
    "amnt_columns = ['loan_amnt','funded_amnt','int_rate','funded_amnt_inv','installment','annual_inc','dti','emp_length','total_pymnt']\n",
    "cleaned_data[amnt_columns] = cleaned_data[amnt_columns].apply(pd.to_numeric)"
   ]
  },
  {
   "cell_type": "markdown",
   "id": "7c11339b",
   "metadata": {},
   "source": [
    "### Derived Data"
   ]
  },
  {
   "cell_type": "code",
   "execution_count": 89,
   "id": "11440e84",
   "metadata": {},
   "outputs": [
    {
     "data": {
      "text/html": [
       "<div>\n",
       "<style scoped>\n",
       "    .dataframe tbody tr th:only-of-type {\n",
       "        vertical-align: middle;\n",
       "    }\n",
       "\n",
       "    .dataframe tbody tr th {\n",
       "        vertical-align: top;\n",
       "    }\n",
       "\n",
       "    .dataframe thead th {\n",
       "        text-align: right;\n",
       "    }\n",
       "</style>\n",
       "<table border=\"1\" class=\"dataframe\">\n",
       "  <thead>\n",
       "    <tr style=\"text-align: right;\">\n",
       "      <th></th>\n",
       "      <th>loan_amnt</th>\n",
       "      <th>funded_amnt</th>\n",
       "      <th>funded_amnt_inv</th>\n",
       "      <th>term</th>\n",
       "      <th>int_rate</th>\n",
       "      <th>installment</th>\n",
       "      <th>grade</th>\n",
       "      <th>sub_grade</th>\n",
       "      <th>emp_length</th>\n",
       "      <th>home_ownership</th>\n",
       "      <th>...</th>\n",
       "      <th>last_credit_pull_d</th>\n",
       "      <th>collections_12_mths_ex_med</th>\n",
       "      <th>policy_code</th>\n",
       "      <th>application_type</th>\n",
       "      <th>acc_now_delinq</th>\n",
       "      <th>chargeoff_within_12_mths</th>\n",
       "      <th>delinq_amnt</th>\n",
       "      <th>pub_rec_bankruptcies</th>\n",
       "      <th>year</th>\n",
       "      <th>month</th>\n",
       "    </tr>\n",
       "  </thead>\n",
       "  <tbody>\n",
       "    <tr>\n",
       "      <th>0</th>\n",
       "      <td>5000</td>\n",
       "      <td>5000</td>\n",
       "      <td>4975.00</td>\n",
       "      <td>36 months</td>\n",
       "      <td>10.65</td>\n",
       "      <td>162.87</td>\n",
       "      <td>B</td>\n",
       "      <td>B2</td>\n",
       "      <td>10</td>\n",
       "      <td>RENT</td>\n",
       "      <td>...</td>\n",
       "      <td>May-16</td>\n",
       "      <td>0</td>\n",
       "      <td>1</td>\n",
       "      <td>INDIVIDUAL</td>\n",
       "      <td>0</td>\n",
       "      <td>0</td>\n",
       "      <td>0</td>\n",
       "      <td>0</td>\n",
       "      <td>2011</td>\n",
       "      <td>12</td>\n",
       "    </tr>\n",
       "    <tr>\n",
       "      <th>1</th>\n",
       "      <td>2500</td>\n",
       "      <td>2500</td>\n",
       "      <td>2500.00</td>\n",
       "      <td>60 months</td>\n",
       "      <td>15.27</td>\n",
       "      <td>59.83</td>\n",
       "      <td>C</td>\n",
       "      <td>C4</td>\n",
       "      <td>1</td>\n",
       "      <td>RENT</td>\n",
       "      <td>...</td>\n",
       "      <td>Sep-13</td>\n",
       "      <td>0</td>\n",
       "      <td>1</td>\n",
       "      <td>INDIVIDUAL</td>\n",
       "      <td>0</td>\n",
       "      <td>0</td>\n",
       "      <td>0</td>\n",
       "      <td>0</td>\n",
       "      <td>2011</td>\n",
       "      <td>12</td>\n",
       "    </tr>\n",
       "    <tr>\n",
       "      <th>2</th>\n",
       "      <td>2400</td>\n",
       "      <td>2400</td>\n",
       "      <td>2400.00</td>\n",
       "      <td>36 months</td>\n",
       "      <td>15.96</td>\n",
       "      <td>84.33</td>\n",
       "      <td>C</td>\n",
       "      <td>C5</td>\n",
       "      <td>10</td>\n",
       "      <td>RENT</td>\n",
       "      <td>...</td>\n",
       "      <td>May-16</td>\n",
       "      <td>0</td>\n",
       "      <td>1</td>\n",
       "      <td>INDIVIDUAL</td>\n",
       "      <td>0</td>\n",
       "      <td>0</td>\n",
       "      <td>0</td>\n",
       "      <td>0</td>\n",
       "      <td>2011</td>\n",
       "      <td>12</td>\n",
       "    </tr>\n",
       "    <tr>\n",
       "      <th>3</th>\n",
       "      <td>10000</td>\n",
       "      <td>10000</td>\n",
       "      <td>10000.00</td>\n",
       "      <td>36 months</td>\n",
       "      <td>13.49</td>\n",
       "      <td>339.31</td>\n",
       "      <td>C</td>\n",
       "      <td>C1</td>\n",
       "      <td>10</td>\n",
       "      <td>RENT</td>\n",
       "      <td>...</td>\n",
       "      <td>Apr-16</td>\n",
       "      <td>0</td>\n",
       "      <td>1</td>\n",
       "      <td>INDIVIDUAL</td>\n",
       "      <td>0</td>\n",
       "      <td>0</td>\n",
       "      <td>0</td>\n",
       "      <td>0</td>\n",
       "      <td>2011</td>\n",
       "      <td>12</td>\n",
       "    </tr>\n",
       "    <tr>\n",
       "      <th>4</th>\n",
       "      <td>3000</td>\n",
       "      <td>3000</td>\n",
       "      <td>3000.00</td>\n",
       "      <td>60 months</td>\n",
       "      <td>12.69</td>\n",
       "      <td>67.79</td>\n",
       "      <td>B</td>\n",
       "      <td>B5</td>\n",
       "      <td>1</td>\n",
       "      <td>RENT</td>\n",
       "      <td>...</td>\n",
       "      <td>May-16</td>\n",
       "      <td>0</td>\n",
       "      <td>1</td>\n",
       "      <td>INDIVIDUAL</td>\n",
       "      <td>0</td>\n",
       "      <td>0</td>\n",
       "      <td>0</td>\n",
       "      <td>0</td>\n",
       "      <td>2011</td>\n",
       "      <td>12</td>\n",
       "    </tr>\n",
       "  </tbody>\n",
       "</table>\n",
       "<p>5 rows × 49 columns</p>\n",
       "</div>"
      ],
      "text/plain": [
       "   loan_amnt  funded_amnt  funded_amnt_inv        term  int_rate  installment  \\\n",
       "0       5000         5000          4975.00   36 months     10.65       162.87   \n",
       "1       2500         2500          2500.00   60 months     15.27        59.83   \n",
       "2       2400         2400          2400.00   36 months     15.96        84.33   \n",
       "3      10000        10000         10000.00   36 months     13.49       339.31   \n",
       "4       3000         3000          3000.00   60 months     12.69        67.79   \n",
       "\n",
       "  grade sub_grade  emp_length home_ownership  ...  last_credit_pull_d  \\\n",
       "0     B        B2          10           RENT  ...              May-16   \n",
       "1     C        C4           1           RENT  ...              Sep-13   \n",
       "2     C        C5          10           RENT  ...              May-16   \n",
       "3     C        C1          10           RENT  ...              Apr-16   \n",
       "4     B        B5           1           RENT  ...              May-16   \n",
       "\n",
       "  collections_12_mths_ex_med policy_code application_type acc_now_delinq  \\\n",
       "0                          0           1       INDIVIDUAL              0   \n",
       "1                          0           1       INDIVIDUAL              0   \n",
       "2                          0           1       INDIVIDUAL              0   \n",
       "3                          0           1       INDIVIDUAL              0   \n",
       "4                          0           1       INDIVIDUAL              0   \n",
       "\n",
       "  chargeoff_within_12_mths delinq_amnt pub_rec_bankruptcies  year month  \n",
       "0                        0           0                    0  2011    12  \n",
       "1                        0           0                    0  2011    12  \n",
       "2                        0           0                    0  2011    12  \n",
       "3                        0           0                    0  2011    12  \n",
       "4                        0           0                    0  2011    12  \n",
       "\n",
       "[5 rows x 49 columns]"
      ]
     },
     "execution_count": 89,
     "metadata": {},
     "output_type": "execute_result"
    }
   ],
   "source": [
    "# Deriving two new columns based Month and Year of 'issue_d' column\n",
    "\n",
    "cleaned_data.issue_d = pd.to_datetime(cleaned_data.issue_d, format='%b-%y')\n",
    "cleaned_data['year'] = cleaned_data['issue_d'].dt.year\n",
    "cleaned_data['month'] = cleaned_data['issue_d'].dt.month\n",
    "\n",
    "cleaned_data.head()"
   ]
  },
  {
   "cell_type": "code",
   "execution_count": 90,
   "id": "dff99105",
   "metadata": {},
   "outputs": [
    {
     "name": "stdout",
     "output_type": "stream",
     "text": [
      "Cleaned_Data Memory Usage: 89MB\n"
     ]
    }
   ],
   "source": [
    "# Final 'clean_data' dataframe\n",
    "# Verifying how much memory is used by cleaned_data dataframe\n",
    "cleaned_data_size_mb = format(sys.getsizeof(cleaned_data) /(1028**2), '.0f')\n",
    "\n",
    "print(f'Cleaned_Data Memory Usage: {cleaned_data_size_mb}MB')\n",
    "\n",
    "## We are using almost half of the space in memory compared against raw_data"
   ]
  },
  {
   "cell_type": "code",
   "execution_count": 91,
   "id": "40c0a477",
   "metadata": {},
   "outputs": [
    {
     "data": {
      "text/plain": [
       "loan_amnt                              int64\n",
       "funded_amnt                            int64\n",
       "funded_amnt_inv                      float64\n",
       "term                                  object\n",
       "int_rate                             float64\n",
       "installment                          float64\n",
       "grade                                 object\n",
       "sub_grade                             object\n",
       "emp_length                             int64\n",
       "home_ownership                        object\n",
       "annual_inc                           float64\n",
       "verification_status                   object\n",
       "issue_d                       datetime64[ns]\n",
       "loan_status                           object\n",
       "pymnt_plan                            object\n",
       "purpose                               object\n",
       "title                                 object\n",
       "addr_state                            object\n",
       "dti                                  float64\n",
       "delinq_2yrs                           object\n",
       "earliest_cr_line                      object\n",
       "inq_last_6mths                        object\n",
       "open_acc                              object\n",
       "pub_rec                               object\n",
       "revol_bal                             object\n",
       "revol_util                            object\n",
       "total_acc                             object\n",
       "initial_list_status                   object\n",
       "out_prncp                             object\n",
       "out_prncp_inv                         object\n",
       "total_pymnt                          float64\n",
       "total_pymnt_inv                       object\n",
       "total_rec_prncp                       object\n",
       "total_rec_int                         object\n",
       "total_rec_late_fee                    object\n",
       "recoveries                            object\n",
       "collection_recovery_fee               object\n",
       "last_pymnt_d                          object\n",
       "last_pymnt_amnt                       object\n",
       "last_credit_pull_d                    object\n",
       "collections_12_mths_ex_med            object\n",
       "policy_code                           object\n",
       "application_type                      object\n",
       "acc_now_delinq                        object\n",
       "chargeoff_within_12_mths              object\n",
       "delinq_amnt                           object\n",
       "pub_rec_bankruptcies                  object\n",
       "year                                   int64\n",
       "month                                  int64\n",
       "dtype: object"
      ]
     },
     "execution_count": 91,
     "metadata": {},
     "output_type": "execute_result"
    }
   ],
   "source": [
    "# Final 'clean_data' dataframe and their datatypes\n",
    "cleaned_data.dtypes"
   ]
  },
  {
   "cell_type": "markdown",
   "id": "722d47a0-a435-4a19-989e-70422374e1b9",
   "metadata": {},
   "source": [
    "## Data Analysis\n",
    "\n",
    "* The right problem is solved which is coherent with the needs of the business. The analysis has a clear structure and the flow is easy to understand.\n",
    "* Univariate and segmented univariate analysis is done correctly and appropriate realistic assumptions are made wherever required. The analyses successfully identify at least the 5 important driver variables (i.e. variables which are strong indicators of default).\n",
    "* Business-driven, type-driven and data-driven metrics are created for the important variables and utilised for analysis. The explanation for creating the derived metrics is mentioned and is reasonable.\n",
    "* Bivariate analysis is performed correctly and is able to identify the important combinations of driver variables. The combinations of variables are chosen such that they make business or analytical sense. \n",
    "* The most useful insights are explained correctly in the comments.\n",
    "* Appropriate plots are created to present the results of the analysis. The choice of plots for respective cases is correct. The plots should clearly present the relevant insights and should be easy to read. The axes and important data points are labelled correctly."
   ]
  },
  {
   "cell_type": "code",
   "execution_count": 86,
   "id": "cb75f005-d431-4f69-9e71-1d06f4444598",
   "metadata": {},
   "outputs": [
    {
     "data": {
      "text/plain": [
       "Fully Paid    82.96\n",
       "Charged Off   14.17\n",
       "Current        2.87\n",
       "Name: loan_status, dtype: float64"
      ]
     },
     "execution_count": 86,
     "metadata": {},
     "output_type": "execute_result"
    }
   ],
   "source": [
    "# Exploring 'loan_status' variable values\n",
    "\n",
    "cleaned_data.loan_status.value_counts() * 100 / len(cleaned_data)\n",
    "## Analysis:\n",
    "# 82.96% of loans were \"Fully Paid\".\n",
    "# 14.17% of loans were \"Charged Off\""
   ]
  },
  {
   "cell_type": "code",
   "execution_count": 87,
   "id": "3c67a90c",
   "metadata": {},
   "outputs": [
    {
     "data": {
      "text/plain": [
       "debt_consolidation   46.93\n",
       "credit_card          12.92\n",
       "other                10.05\n",
       "home_improvement      7.49\n",
       "major_purchase        5.51\n",
       "small_business        4.60\n",
       "car                   3.90\n",
       "wedding               2.38\n",
       "medical               1.74\n",
       "moving                1.47\n",
       "vacation              0.96\n",
       "house                 0.96\n",
       "educational           0.82\n",
       "renewable_energy      0.26\n",
       "Name: purpose, dtype: float64"
      ]
     },
     "execution_count": 87,
     "metadata": {},
     "output_type": "execute_result"
    }
   ],
   "source": [
    "# Exploring 'purpose' variable values\n",
    "\n",
    "cleaned_data.purpose.value_counts() * 100 / len(cleaned_data)\n",
    "\n",
    "## Analysis:  \n",
    "# Most of the loans are about \"debt consolidation\" (46.93%)"
   ]
  },
  {
   "cell_type": "code",
   "execution_count": null,
   "id": "0573161e",
   "metadata": {},
   "outputs": [],
   "source": []
  },
  {
   "cell_type": "code",
   "execution_count": null,
   "id": "52fd3364",
   "metadata": {},
   "outputs": [],
   "source": []
  },
  {
   "cell_type": "code",
   "execution_count": null,
   "id": "115cc70b",
   "metadata": {},
   "outputs": [],
   "source": []
  },
  {
   "cell_type": "markdown",
   "id": "98130130-9eb8-4810-9f2d-a9ed42ccd703",
   "metadata": {},
   "source": [
    "## Presentation and Recommendations\n",
    "\n",
    "* The presentation has a clear structure, is not too long, and explains the most important results concisely in simple language.\n",
    "* The recommendations to solve the problems are realistic, actionable and coherent with the analysis. \n",
    "* The GitHub repository link contains a python file, presentation file and a README.md file. README.md file should describe the project briefly.\n",
    "* If any assumptions are made, they are stated clearly."
   ]
  },
  {
   "cell_type": "code",
   "execution_count": null,
   "id": "4088b684-359a-46a0-85ee-ba0883670d82",
   "metadata": {},
   "outputs": [],
   "source": []
  },
  {
   "cell_type": "markdown",
   "id": "9898530d-c624-48aa-91ac-0f077efd193e",
   "metadata": {},
   "source": [
    "## Conciseness and Readability of the Code\n",
    "* The code is concise and syntactically correct. Wherever appropriate, built-in functions and standard libraries are used instead of writing long code (if-else statements, for loops, etc.).\n",
    "* Custom functions are used to perform repetitive tasks.\n",
    "* The code is readable with appropriately named variables and detailed comments are written wherever necessary."
   ]
  },
  {
   "cell_type": "code",
   "execution_count": null,
   "id": "bdd24c99",
   "metadata": {},
   "outputs": [],
   "source": []
  }
 ],
 "metadata": {
  "interpreter": {
   "hash": "40d3a090f54c6569ab1632332b64b2c03c39dcf918b08424e98f38b5ae0af88f"
  },
  "kernelspec": {
   "display_name": "Python 3",
   "language": "python",
   "name": "python3"
  },
  "language_info": {
   "codemirror_mode": {
    "name": "ipython",
    "version": 3
   },
   "file_extension": ".py",
   "mimetype": "text/x-python",
   "name": "python",
   "nbconvert_exporter": "python",
   "pygments_lexer": "ipython3",
   "version": "3.8.8"
  }
 },
 "nbformat": 4,
 "nbformat_minor": 5
}
