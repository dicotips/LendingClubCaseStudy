{
 "cells": [
  {
   "cell_type": "code",
   "execution_count": null,
   "id": "0643a751-b6a9-4e6f-b165-d80540bb696f",
   "metadata": {},
   "outputs": [],
   "source": []
  }
 ],
 "metadata": {
  "kernelspec": {
   "display_name": "Python 3",
   "language": "python",
   "name": "python3"
  },
  "language_info": {
   "name": ""
  }
 },
 "nbformat": 4,
 "nbformat_minor": 5
}
